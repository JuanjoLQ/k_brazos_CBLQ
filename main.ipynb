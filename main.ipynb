{
  "cells": [
    {
      "cell_type": "markdown",
      "metadata": {
        "colab_type": "text",
        "id": "view-in-github"
      },
      "source": [
        "<a href=\"https://colab.research.google.com/github/JuanjoLQ/k_brazos_CBLQ/blob/main/main.ipynb\" target=\"_parent\"><img src=\"https://colab.research.google.com/assets/colab-badge.svg\" alt=\"Open In Colab\"/></a>"
      ]
    },
    {
      "cell_type": "markdown",
      "id": "45718ddbdacc17ac",
      "metadata": {
        "id": "45718ddbdacc17ac"
      },
      "source": [
        "# Práctica 1 Extensiones de Machine Learning\n",
        "\n",
        "**Alumnos**:<br>\n",
        "- María Castillo Blaya (m.castilloblaya@um.es)\n",
        "- Juan José López Quiñonero (jjose.lopez@um.es)\n",
        "\n",
        "**Máster de Inteligencia Artificial**\n",
        "\n",
        "**Facultad de Informática**\n",
        "\n",
        "![](https://www.um.es/image/layout_set_logo?img_id=175281&t=1726728636242)\n",
        "\n",
        "**Universidad de Murcia**\n",
        "\n",
        "![](https://www.um.es/o/um-lr-principal-um-home-theme/images/logo-um.png)\n"
      ]
    },
    {
      "cell_type": "markdown",
      "id": "S47ejiUPfwEt",
      "metadata": {
        "id": "S47ejiUPfwEt"
      },
      "source": [
        "# Proyecto Bandido Multi-brazo\n",
        "Este es el notebook principal del proyecto **Bandido Multi-brazo**.\n",
        "\n",
        " **Instrucciones**\n",
        "1. Haz clic en el siguiente enlace para abrir este proyecto en Google Colab:\n",
        "   [![Abrir en Colab](https://colab.research.google.com/assets/colab-badge.svg)](https://github.com/JuanjoLQ/k_brazos_CBLQ/blob/main/main.ipynb)\n",
        "2. Ejecuta todas las celdas (`Entorno de ejecución > Ejecutar todas`).\n",
        "3. Al final del notebook se incluyen enlaces a los distintos notebooks implementados para este ejercicio.\n",
        "4. Para cada notebook, realizar el paso **2.**"
      ]
    },
    {
      "cell_type": "markdown",
      "id": "7c1697e197fa5a08",
      "metadata": {
        "id": "7c1697e197fa5a08"
      },
      "source": [
        "## Preparación del entorno\n"
      ]
    },
    {
      "cell_type": "markdown",
      "id": "9e565b93",
      "metadata": {},
      "source": [
        "Descargamos repositorio"
      ]
    },
    {
      "cell_type": "code",
      "execution_count": 1,
      "id": "bf5905976fb24fe",
      "metadata": {
        "colab": {
          "base_uri": "https://localhost:8080/"
        },
        "id": "bf5905976fb24fe",
        "outputId": "b0d7449a-3cbf-4422-85fa-7b2740e16130"
      },
      "outputs": [
        {
          "name": "stdout",
          "output_type": "stream",
          "text": [
            "Cloning into 'k_brazos_BFRRCE'...\n",
            "remote: Enumerating objects: 312, done.\u001b[K\n",
            "remote: Counting objects: 100% (151/151), done.\u001b[K\n",
            "remote: Compressing objects: 100% (150/150), done.\u001b[K\n",
            "remote: Total 312 (delta 75), reused 0 (delta 0), pack-reused 161 (from 1)\u001b[K\n",
            "Receiving objects: 100% (312/312), 7.84 MiB | 10.88 MiB/s, done.\n",
            "Resolving deltas: 100% (143/143), done.\n"
          ]
        }
      ],
      "source": [
        "!git clone https://github.com/JuanjoLQ/k_brazos_CBLQ.git\n",
        "!cd k_brazos_CBLQ/"
      ]
    },
    {
      "cell_type": "markdown",
      "id": "WiMoOFB1iThG",
      "metadata": {
        "id": "WiMoOFB1iThG"
      },
      "source": [
        "## Instalación de dependencias"
      ]
    },
    {
      "cell_type": "code",
      "execution_count": 2,
      "id": "4582eec6",
      "metadata": {
        "ExecuteTime": {
          "end_time": "2025-01-29T15:16:53.845102Z",
          "start_time": "2025-01-29T15:16:53.842529Z"
        },
        "colab": {
          "base_uri": "https://localhost:8080/"
        },
        "id": "4582eec6",
        "outputId": "51673fa3-cd83-4044-f77d-9fb92e7a15e8"
      },
      "outputs": [
        {
          "name": "stdout",
          "output_type": "stream",
          "text": [
            "['/content', '/env/python', '/usr/lib/python311.zip', '/usr/lib/python3.11', '/usr/lib/python3.11/lib-dynload', '', '/usr/local/lib/python3.11/dist-packages', '/usr/lib/python3/dist-packages', '/usr/local/lib/python3.11/dist-packages/IPython/extensions', '/root/.ipython', '/content/k_brazos_BFRRCE', '/content/k_brazos_BFRRCE/src']\n"
          ]
        }
      ],
      "source": [
        "# Importamos todas las clases y funciones\n",
        "\n",
        "import sys\n",
        "\n",
        "# Añadir los directorio fuentes al path de Python\n",
        "sys.path.append('/content/k_brazos_CBLQ')\n",
        "sys.path.append('/content/k_brazos_CBLQ/src')\n",
        "\n",
        "\n",
        "# Verificar que se han añadido correctamente\n",
        "print(sys.path)\n",
        "\n",
        "import numpy as np\n",
        "from typing import List\n",
        "\n",
        "from src.algorithms import Algorithm, EpsilonGreedy\n",
        "from src.arms import ArmNormal, Bandit\n",
        "from src.plotting import plot_average_rewards, plot_optimal_selections, plot_arm_statistics, plot_regret\n"
      ]
    },
    {
      "cell_type": "markdown",
      "id": "GSkPfnrpdqtw",
      "metadata": {
        "id": "GSkPfnrpdqtw"
      },
      "source": [
        " ## Enlaces a los distintos notebooks implementados para el ejercicio 1."
      ]
    },
    {
      "cell_type": "markdown",
      "id": "z2IMaqvFeawn",
      "metadata": {
        "id": "z2IMaqvFeawn"
      },
      "source": [
        "- [📘 Notebook 1: Introducción al problema](https://github.com/JuanjoLQ/k_brazos_CBLQ/blob/main/notebook1.ipynb)\n",
        "- [📘 Notebook 2: Estrategia Epsilon-Greedy](https://github.com/JuanjoLQ/k_brazos_CBLQ/blob/main/notebook2.ipynb)\n",
        "- [📘 Notebook 3: Algoritmos de la familia UCB](https://github.com/JuanjoLQ/k_brazos_CBLQ/blob/main/notebook3.ipynb)\n",
        "- [📘 Notebook 4: Algoritmos de ascenso de gradiente](https://github.com/JuanjoLQ/k_brazos_CBLQ/blob/main/notebook4.ipynb)\n"
      ]
    }
  ],
  "metadata": {
    "colab": {
      "include_colab_link": true,
      "provenance": []
    },
    "kernelspec": {
      "display_name": "Python 3 (ipykernel)",
      "language": "python",
      "name": "python3"
    }
  },
  "nbformat": 4,
  "nbformat_minor": 5
}
